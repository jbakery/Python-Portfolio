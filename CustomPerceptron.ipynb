{
  "nbformat": 4,
  "nbformat_minor": 0,
  "metadata": {
    "colab": {
      "provenance": [],
      "authorship_tag": "ABX9TyMU86s5PCKXB0TA0fv2FIkg",
      "include_colab_link": true
    },
    "kernelspec": {
      "name": "python3",
      "display_name": "Python 3"
    },
    "language_info": {
      "name": "python"
    }
  },
  "cells": [
    {
      "cell_type": "markdown",
      "metadata": {
        "id": "view-in-github",
        "colab_type": "text"
      },
      "source": [
        "<a href=\"https://colab.research.google.com/github/jbakery/Python-Portfolio/blob/main/CustomPerceptron.ipynb\" target=\"_parent\"><img src=\"https://colab.research.google.com/assets/colab-badge.svg\" alt=\"Open In Colab\"/></a>"
      ]
    },
    {
      "cell_type": "code",
      "execution_count": null,
      "metadata": {
        "id": "iiTBMqSNoffX"
      },
      "outputs": [],
      "source": [
        "import numpy as np\n",
        "#\n",
        "# Perceptron implementation\n",
        "#\n",
        "class CustomPerceptron(object):\n",
        "     \n",
        "    def __init__(self, n_iterations=100, random_state=1, learning_rate=0.01):\n",
        "        self.n_iterations = n_iterations\n",
        "        self.random_state = random_state\n",
        "        self.learning_rate = learning_rate\n",
        " \n",
        "    '''\n",
        "    Stochastic Gradient Descent\n",
        "     \n",
        "    1. Weights are updated based on each training examples.\n",
        "    2. Learning of weights can continue for multiple iterations\n",
        "    3. Learning rate needs to be defined\n",
        "    '''\n",
        "    def fit(self, X, y):\n",
        "        rgen = np.random.RandomState(self.random_state)\n",
        "        self.coef_ = rgen.normal(loc=0.0, scale=0.01, size=1 + X.shape[1])\n",
        "        self.errors_ = []\n",
        "        for _ in range(self.n_iterations):\n",
        "            errors = 0\n",
        "            for xi, expected_value in zip(X, y):\n",
        "                predicted_value = self.predict(xi)\n",
        "                self.coef_[1:] = self.coef_[1:] + self.learning_rate * (expected_value - predicted_value) * xi\n",
        "                self.coef_[0] = self.coef_[0] + self.learning_rate * (expected_value - predicted_value) * 1\n",
        "                update = self.learning_rate * (expected_value - predicted_value)\n",
        "                errors += int(update != 0.0)\n",
        "            self.errors_.append(errors)\n",
        "    '''\n",
        "    Net Input is sum of weighted input signals\n",
        "    '''\n",
        "    def net_input(self, X):\n",
        "            weighted_sum = np.dot(X, self.coef_[1:]) + self.coef_[0]\n",
        "            return weighted_sum\n",
        "     \n",
        "    '''\n",
        "    Activation function is fed the net input and the unit step function\n",
        "    is executed to determine the output.\n",
        "    '''\n",
        "    def activation_function(self, X):\n",
        "            weighted_sum = self.net_input(X)\n",
        "            return np.where(weighted_sum >= 0.0, 1, 0)\n",
        "     \n",
        "    '''\n",
        "    Prediction is made on the basis of output of activation function\n",
        "    '''\n",
        "    def predict(self, X):\n",
        "        return self.activation_function(X)\n",
        "     \n",
        "    '''\n",
        "    Model score is calculated based on comparison of\n",
        "    expected value and predicted value\n",
        "    '''\n",
        "    def score(self, X, y):\n",
        "        misclassified_data_count = 0\n",
        "        for xi, target in zip(X, y):\n",
        "            output = self.predict(xi)\n",
        "            if(target != output):\n",
        "                misclassified_data_count += 1\n",
        "        total_data_count = len(X)\n",
        "        self.score_ = (total_data_count - misclassified_data_count)/total_data_count\n",
        "        return self.score_"
      ]
    },
    {
      "cell_type": "code",
      "source": [
        "import numpy as np\n",
        "from sklearn import datasets\n",
        "from sklearn.model_selection import train_test_split\n",
        "#\n",
        "# Load the data set\n",
        "#\n",
        "bc = datasets.load_breast_cancer()\n",
        "X = bc.data\n",
        "y = bc.target\n",
        "#\n",
        "# Create training and test split\n",
        "#\n",
        "X_train, X_test, y_train, y_test = train_test_split(X, y, test_size=0.3, random_state=42, stratify=y)\n",
        "#\n",
        "# Instantiate CustomPerceptron\n",
        "#\n",
        "prcptrn = CustomPerceptron(n_iterations=10)\n",
        "#\n",
        "# Fit the model\n",
        "#\n",
        "prcptrn.fit(X_train, y_train)\n",
        "#\n",
        "# Score the model\n",
        "#\n",
        "prcptrn.score(X_test, y_test), prcptrn.score(X_train, y_train)"
      ],
      "metadata": {
        "colab": {
          "base_uri": "https://localhost:8080/"
        },
        "id": "UVL6rtVcosZ-",
        "outputId": "e836803a-6fa7-4a58-8448-a3b4a8108fd6"
      },
      "execution_count": null,
      "outputs": [
        {
          "output_type": "execute_result",
          "data": {
            "text/plain": [
              "(0.8888888888888888, 0.9120603015075377)"
            ]
          },
          "metadata": {},
          "execution_count": 2
        }
      ]
    },
    {
      "cell_type": "code",
      "source": [
        "import pandas as pd\n",
        "df = pd.DataFrame(data=np.c_[bc['data'], bc['target']],\n",
        "                  columns=np.append(bc['feature_names'], 'target'))"
      ],
      "metadata": {
        "id": "8tBRqpYyt0Kh"
      },
      "execution_count": 10,
      "outputs": []
    },
    {
      "cell_type": "code",
      "source": [
        "from google.colab import files\n",
        "df.to_csv('output.csv', encoding = 'utf-8-sig') \n",
        "files.download('output.csv')"
      ],
      "metadata": {
        "colab": {
          "base_uri": "https://localhost:8080/",
          "height": 17
        },
        "id": "HLe4RdvMtZZ8",
        "outputId": "5319c237-6a06-4e48-a2dd-65dd64a1b743"
      },
      "execution_count": 11,
      "outputs": [
        {
          "output_type": "display_data",
          "data": {
            "text/plain": [
              "<IPython.core.display.Javascript object>"
            ],
            "application/javascript": [
              "\n",
              "    async function download(id, filename, size) {\n",
              "      if (!google.colab.kernel.accessAllowed) {\n",
              "        return;\n",
              "      }\n",
              "      const div = document.createElement('div');\n",
              "      const label = document.createElement('label');\n",
              "      label.textContent = `Downloading \"${filename}\": `;\n",
              "      div.appendChild(label);\n",
              "      const progress = document.createElement('progress');\n",
              "      progress.max = size;\n",
              "      div.appendChild(progress);\n",
              "      document.body.appendChild(div);\n",
              "\n",
              "      const buffers = [];\n",
              "      let downloaded = 0;\n",
              "\n",
              "      const channel = await google.colab.kernel.comms.open(id);\n",
              "      // Send a message to notify the kernel that we're ready.\n",
              "      channel.send({})\n",
              "\n",
              "      for await (const message of channel.messages) {\n",
              "        // Send a message to notify the kernel that we're ready.\n",
              "        channel.send({})\n",
              "        if (message.buffers) {\n",
              "          for (const buffer of message.buffers) {\n",
              "            buffers.push(buffer);\n",
              "            downloaded += buffer.byteLength;\n",
              "            progress.value = downloaded;\n",
              "          }\n",
              "        }\n",
              "      }\n",
              "      const blob = new Blob(buffers, {type: 'application/binary'});\n",
              "      const a = document.createElement('a');\n",
              "      a.href = window.URL.createObjectURL(blob);\n",
              "      a.download = filename;\n",
              "      div.appendChild(a);\n",
              "      a.click();\n",
              "      div.remove();\n",
              "    }\n",
              "  "
            ]
          },
          "metadata": {}
        },
        {
          "output_type": "display_data",
          "data": {
            "text/plain": [
              "<IPython.core.display.Javascript object>"
            ],
            "application/javascript": [
              "download(\"download_8167f808-96b8-4e17-ae94-5bc4114222a7\", \"output.csv\", 124693)"
            ]
          },
          "metadata": {}
        }
      ]
    },
    {
      "cell_type": "code",
      "source": [
        "\"\"\" Example of Perceptron convergence\"\"\"\n",
        "\n",
        "%matplotlib inline\n",
        "import matplotlib.pyplot as plt\n",
        " \n",
        "plt.plot(range(1, len(prcptrn.errors_) + 1), prcptrn.errors_, marker='o')\n",
        "plt.xlabel('Epochs')\n",
        "plt.ylabel('Number of updates')\n",
        " \n",
        "# plt.savefig('images/02_07.png', dpi=300)\n",
        "plt.show()"
      ],
      "metadata": {
        "colab": {
          "base_uri": "https://localhost:8080/",
          "height": 449
        },
        "id": "-pNGih2ro3hb",
        "outputId": "460e1643-929c-4b2a-b2eb-1fe2ed519b41"
      },
      "execution_count": null,
      "outputs": [
        {
          "output_type": "display_data",
          "data": {
            "text/plain": [
              "<Figure size 640x480 with 1 Axes>"
            ],
            "image/png": "[encoded data removed]"
          },
          "metadata": {}
        }
      ]
    }
  ]
}