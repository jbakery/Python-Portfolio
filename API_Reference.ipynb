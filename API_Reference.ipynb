{
  "nbformat": 4,
  "nbformat_minor": 0,
  "metadata": {
    "colab": {
      "name": "API Reference",
      "provenance": [],
      "authorship_tag": "ABX9TyOk4n2mfYWU/oCC8LX/9otQ",
      "include_colab_link": true
    },
    "kernelspec": {
      "name": "python3",
      "display_name": "Python 3"
    },
    "language_info": {
      "name": "python"
    }
  },
  "cells": [
    {
      "cell_type": "markdown",
      "metadata": {
        "id": "view-in-github",
        "colab_type": "text"
      },
      "source": [
        "<a href=\"https://colab.research.google.com/github/jbakery/Python-Portfolio/blob/main/API_Reference.ipynb\" target=\"_parent\"><img src=\"https://colab.research.google.com/assets/colab-badge.svg\" alt=\"Open In Colab\"/></a>"
      ]
    },
    {
      "cell_type": "code",
      "metadata": {
        "colab": {
          "base_uri": "https://localhost:8080/"
        },
        "id": "MZfCL-rfad1P",
        "outputId": "7417ee0c-f5ee-47e8-a958-aaf15ca93d39"
      },
      "source": [
        "# Write a program to fetch the number of British persons listed by the API\n",
        "# culture = British\n",
        "# birthplace = birthplace\n",
        "# name = displayname\n",
        "\n",
        "import requests\n",
        "\n",
        "def british_count():\n",
        "  url = 'https://api.harvardartmuseums.org/person?apikey=cdca6680-9f73-11e9-a918-eb94b48290a9'\n",
        "  query ={'q': 'culture: British','limit': 100}\n",
        "  response = requests.get(url, params=query)\n",
        "\n",
        "  #print(response)\n",
        "  response.ok\n",
        "\n",
        "  data = response.json()\n",
        "\n",
        "  def process_data(british_people):\n",
        "    return [{\n",
        "        'name': person['displayname'],\n",
        "        'culture': person['culture'],\n",
        "        'birthplace': person['birthplace']\n",
        "    } for person in british_people]\n",
        "\n",
        "  people = []\n",
        "\n",
        "  skip = 0\n",
        "  size = 100\n",
        "\n",
        "  query ={'q': 'culture: British','size': 100}\n",
        "  response = requests.get(url, params=query)\n",
        "  print('Querying {}'.format(response.url))\n",
        "\n",
        "  if(response.ok):\n",
        "    data = response.json()\n",
        "    info_data = data['info']\n",
        "\n",
        "    total = info_data['totalrecords']\n",
        "    #print('There is a total of {} results to fetch'.format(total))\n",
        "\n",
        "    people = process_data(data['records'])\n",
        "    #print('{} results processed so far'.format(len(people)))\n",
        "\n",
        "    skip = skip + size\n",
        "\n",
        "    while skip < total:\n",
        "      query = {'size': size, 'skip': skip}\n",
        "      response = requests.get(url, query)\n",
        "      print('Querying {}'.format(response.url))\n",
        "      if(response.ok):\n",
        "        people = people + process_data(response.json()['records'])\n",
        "        #print('{} results processed so far'.format(len(people)))\n",
        "        skip = skip + size\n",
        "\n",
        "      #print('{} results returned'.format(len(people)))\n",
        "\n",
        "  return len(people)\n",
        "\n",
        "num_people = british_count()\n",
        "\n",
        "print(num_people)"
      ],
      "execution_count": null,
      "outputs": [
        {
          "output_type": "stream",
          "text": [
            "Querying https://api.harvardartmuseums.org/person?apikey=cdca6680-9f73-11e9-a918-eb94b48290a9&q=culture%3A+British&size=100\n",
            "Querying https://api.harvardartmuseums.org/person?apikey=cdca6680-9f73-11e9-a918-eb94b48290a9&size=100&skip=100\n",
            "Querying https://api.harvardartmuseums.org/person?apikey=cdca6680-9f73-11e9-a918-eb94b48290a9&size=100&skip=200\n",
            "Querying https://api.harvardartmuseums.org/person?apikey=cdca6680-9f73-11e9-a918-eb94b48290a9&size=100&skip=300\n",
            "Querying https://api.harvardartmuseums.org/person?apikey=cdca6680-9f73-11e9-a918-eb94b48290a9&size=100&skip=400\n",
            "Querying https://api.harvardartmuseums.org/person?apikey=cdca6680-9f73-11e9-a918-eb94b48290a9&size=100&skip=500\n",
            "Querying https://api.harvardartmuseums.org/person?apikey=cdca6680-9f73-11e9-a918-eb94b48290a9&size=100&skip=600\n",
            "Querying https://api.harvardartmuseums.org/person?apikey=cdca6680-9f73-11e9-a918-eb94b48290a9&size=100&skip=700\n",
            "Querying https://api.harvardartmuseums.org/person?apikey=cdca6680-9f73-11e9-a918-eb94b48290a9&size=100&skip=800\n",
            "Querying https://api.harvardartmuseums.org/person?apikey=cdca6680-9f73-11e9-a918-eb94b48290a9&size=100&skip=900\n",
            "Querying https://api.harvardartmuseums.org/person?apikey=cdca6680-9f73-11e9-a918-eb94b48290a9&size=100&skip=1000\n",
            "Querying https://api.harvardartmuseums.org/person?apikey=cdca6680-9f73-11e9-a918-eb94b48290a9&size=100&skip=1100\n",
            "Querying https://api.harvardartmuseums.org/person?apikey=cdca6680-9f73-11e9-a918-eb94b48290a9&size=100&skip=1200\n",
            "Querying https://api.harvardartmuseums.org/person?apikey=cdca6680-9f73-11e9-a918-eb94b48290a9&size=100&skip=1300\n",
            "Querying https://api.harvardartmuseums.org/person?apikey=cdca6680-9f73-11e9-a918-eb94b48290a9&size=100&skip=1400\n",
            "Querying https://api.harvardartmuseums.org/person?apikey=cdca6680-9f73-11e9-a918-eb94b48290a9&size=100&skip=1500\n",
            "Querying https://api.harvardartmuseums.org/person?apikey=cdca6680-9f73-11e9-a918-eb94b48290a9&size=100&skip=1600\n",
            "Querying https://api.harvardartmuseums.org/person?apikey=cdca6680-9f73-11e9-a918-eb94b48290a9&size=100&skip=1700\n",
            "Querying https://api.harvardartmuseums.org/person?apikey=cdca6680-9f73-11e9-a918-eb94b48290a9&size=100&skip=1800\n",
            "1900\n"
          ],
          "name": "stdout"
        }
      ]
    },
    {
      "cell_type": "code",
      "metadata": {
        "colab": {
          "base_uri": "https://localhost:8080/"
        },
        "id": "Wo2aWMTbaFk1",
        "outputId": "a2de8a82-5024-41a8-c83a-7b5c7fb05380"
      },
      "source": [
        "print(num_people)"
      ],
      "execution_count": null,
      "outputs": [
        {
          "output_type": "stream",
          "text": [
            "1900\n"
          ],
          "name": "stdout"
        }
      ]
    },
    {
      "cell_type": "markdown",
      "metadata": {
        "id": "xMwDellQWGgE"
      },
      "source": [
        "This program shows clear understanding in how to execute an API call. The API pulls information from the Harvard Museum. The function pulls a list of all british staff members, and counts them. "
      ]
    }
  ]
}