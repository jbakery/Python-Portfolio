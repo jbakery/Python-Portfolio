{
  "nbformat": 4,
  "nbformat_minor": 0,
  "metadata": {
    "colab": {
      "provenance": [],
      "authorship_tag": "ABX9TyNPnbSH6GDUawiUQyXfOi9j",
      "include_colab_link": true
    },
    "kernelspec": {
      "name": "python3",
      "display_name": "Python 3"
    },
    "language_info": {
      "name": "python"
    }
  },
  "cells": [
    {
      "cell_type": "markdown",
      "metadata": {
        "id": "view-in-github",
        "colab_type": "text"
      },
      "source": [
        "<a href=\"https://colab.research.google.com/github/jbakery/Python-Portfolio/blob/main/Perceptron_Algorithm.ipynb\" target=\"_parent\"><img src=\"https://colab.research.google.com/assets/colab-badge.svg\" alt=\"Open In Colab\"/></a>"
      ]
    },
    {
      "cell_type": "code",
      "execution_count": 3,
      "metadata": {
        "id": "hSh97n2InpxV"
      },
      "outputs": [],
      "source": [
        "import numpy as np\n",
        "\n",
        "class Perceptron:\n",
        "\n",
        "  \"\"\"Perceptron classifier.\n",
        "  \n",
        " Parameters\n",
        " \n",
        " ---------------------------\n",
        "\n",
        "eta : float\n",
        "  Learning rate (between 0.0 and 1.0)\n",
        "\n",
        "n_iter : int\n",
        "  Passes over the training dataset.\n",
        "\n",
        "random_state : int\n",
        "  Random number generator seed for random weight initialization.\n",
        "\n",
        " Attributes\n",
        "\n",
        " ------------------------\n",
        "\n",
        "w_: Id-array\n",
        "  Weights after fitting.\n",
        "\n",
        "b_ : Scalar\n",
        "  Bias unit after fitting.\n",
        "\n",
        "errors_ : list\n",
        "  Number of misclassifications (updates) in each epoch.\n",
        "\n",
        "  \"\"\"\n",
        "\n",
        "  def __init__ (self, eta=0.01, n_iter=50, random_state=1):\n",
        "    self.eta = eta\n",
        "    self.n_iter = n_iter\n",
        "    self.random_state = random_state\n",
        "\n",
        "  def fit(self, X, y):\n",
        "    \"\"\" Fit training data.\n",
        "\n",
        "  Parameters\n",
        "  ----------------------\n",
        "\n",
        "  X : {array-like}, shape = [n_examples, n_featires]\n",
        "    Training vectors, where n_examples is the number of examples and n_features is the number of features.\n",
        "  y : array-like, shape = [n_examples]\n",
        "  Target values.\n",
        "\n",
        "  Returns\n",
        "  --------\n",
        "  self : object\n",
        "\n",
        "  \"\"\"\n",
        "    rgen = np.random.RandomState(self.random_state)\n",
        "    self.w_ = rgen.normal(loc=0.0, scale=0.01, size=X.shape[1])\n",
        "    self.b_ = np.float_(0.)\n",
        "    self.errors = []\n",
        "\n",
        "    for _ in range(self.n_iter):\n",
        "      errors = 0\n",
        "      for xi, target in zip(X, y):\n",
        "       update = self.eta * (target - self.predict((xi)))\n",
        "       self.w_ += update * xi\n",
        "       self.b_ += update\n",
        "       errors += int(update != 0.0)\n",
        "       self.errors_.append(errors)\n",
        "      return self\n",
        "\n",
        "  def net_input (self, X):\n",
        "    \"\"\"Calculate net imput\"\"\"\n",
        "    return np.dot(X, self.w_) + self.b\n",
        "\n",
        "  def predict(self, X):\n",
        "    \"\"\"Return class label after unit step\"\"\"\n",
        "    return np.where(self.net_input(X)>= 0.0, 1, 0)\n",
        "\n",
        "\n",
        "\n",
        "\n"
      ]
    }
  ]
}