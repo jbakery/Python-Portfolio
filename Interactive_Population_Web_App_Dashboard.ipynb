{
  "nbformat": 4,
  "nbformat_minor": 0,
  "metadata": {
    "colab": {
      "name": "Interactive Population Web App Dashboard",
      "provenance": [],
      "authorship_tag": "ABX9TyMoPWTqb6GnA8Y6IBNmdHSe",
      "include_colab_link": true
    },
    "kernelspec": {
      "name": "python3",
      "display_name": "Python 3"
    },
    "language_info": {
      "name": "python"
    }
  },
  "cells": [
    {
      "cell_type": "markdown",
      "metadata": {
        "id": "view-in-github",
        "colab_type": "text"
      },
      "source": [
        "<a href=\"https://colab.research.google.com/github/jbakery/Python-Portfolio/blob/main/Interactive_Population_Web_App_Dashboard.ipynb\" target=\"_parent\"><img src=\"https://colab.research.google.com/assets/colab-badge.svg\" alt=\"Open In Colab\"/></a>"
      ]
    },
    {
      "cell_type": "code",
      "execution_count": 2,
      "metadata": {
        "colab": {
          "base_uri": "https://localhost:8080/"
        },
        "id": "KLwZVb7sCWTP",
        "outputId": "6ced6e8a-ff5a-402c-eafb-ad0a2498ab3e"
      },
      "outputs": [
        {
          "output_type": "stream",
          "name": "stdout",
          "text": [
            "Collecting dash\n",
            "  Downloading dash-2.0.0-py3-none-any.whl (7.3 MB)\n",
            "\u001b[K     |████████████████████████████████| 7.3 MB 5.1 MB/s \n",
            "\u001b[?25hRequirement already satisfied: Flask>=1.0.4 in /usr/local/lib/python3.7/dist-packages (from dash) (1.1.4)\n",
            "Collecting plotly>=5.0.0\n",
            "  Downloading plotly-5.5.0-py2.py3-none-any.whl (26.5 MB)\n",
            "\u001b[K     |████████████████████████████████| 26.5 MB 1.5 MB/s \n",
            "\u001b[?25hCollecting dash-html-components==2.0.0\n",
            "  Downloading dash_html_components-2.0.0.tar.gz (3.8 kB)\n",
            "Collecting dash-table==5.0.0\n",
            "  Downloading dash_table-5.0.0.tar.gz (3.4 kB)\n",
            "Collecting flask-compress\n",
            "  Downloading Flask_Compress-1.10.1-py3-none-any.whl (7.9 kB)\n",
            "Collecting dash-core-components==2.0.0\n",
            "  Downloading dash_core_components-2.0.0.tar.gz (3.4 kB)\n",
            "Requirement already satisfied: Werkzeug<2.0,>=0.15 in /usr/local/lib/python3.7/dist-packages (from Flask>=1.0.4->dash) (1.0.1)\n",
            "Requirement already satisfied: itsdangerous<2.0,>=0.24 in /usr/local/lib/python3.7/dist-packages (from Flask>=1.0.4->dash) (1.1.0)\n",
            "Requirement already satisfied: click<8.0,>=5.1 in /usr/local/lib/python3.7/dist-packages (from Flask>=1.0.4->dash) (7.1.2)\n",
            "Requirement already satisfied: Jinja2<3.0,>=2.10.1 in /usr/local/lib/python3.7/dist-packages (from Flask>=1.0.4->dash) (2.11.3)\n",
            "Requirement already satisfied: MarkupSafe>=0.23 in /usr/local/lib/python3.7/dist-packages (from Jinja2<3.0,>=2.10.1->Flask>=1.0.4->dash) (2.0.1)\n",
            "Requirement already satisfied: six in /usr/local/lib/python3.7/dist-packages (from plotly>=5.0.0->dash) (1.15.0)\n",
            "Collecting tenacity>=6.2.0\n",
            "  Downloading tenacity-8.0.1-py3-none-any.whl (24 kB)\n",
            "Collecting brotli\n",
            "  Downloading Brotli-1.0.9-cp37-cp37m-manylinux1_x86_64.whl (357 kB)\n",
            "\u001b[K     |████████████████████████████████| 357 kB 54.9 MB/s \n",
            "\u001b[?25hBuilding wheels for collected packages: dash-core-components, dash-html-components, dash-table\n",
            "  Building wheel for dash-core-components (setup.py) ... \u001b[?25l\u001b[?25hdone\n",
            "  Created wheel for dash-core-components: filename=dash_core_components-2.0.0-py3-none-any.whl size=3821 sha256=9779933a009ebee100ed8e4ee5bcf9ce55e47a065869bc722ccc236ffaaba3b9\n",
            "  Stored in directory: /root/.cache/pip/wheels/00/f9/c7/1a6437d794ed753ea9bc9079e761d4fc803a1f1f5d3697b9ec\n",
            "  Building wheel for dash-html-components (setup.py) ... \u001b[?25l\u001b[?25hdone\n",
            "  Created wheel for dash-html-components: filename=dash_html_components-2.0.0-py3-none-any.whl size=4089 sha256=0becfa89da2ce4963a9a0106627dadc17adfb79bac1422fd7af7e4d59d86a911\n",
            "  Stored in directory: /root/.cache/pip/wheels/ec/6b/81/05aceabd8b27f724e2c96784016287cc1bfbc349ebfda451de\n",
            "  Building wheel for dash-table (setup.py) ... \u001b[?25l\u001b[?25hdone\n",
            "  Created wheel for dash-table: filename=dash_table-5.0.0-py3-none-any.whl size=3911 sha256=1abc7698627196ede8501a5cda5fd66ce710df451d345129a4a8c4d00895a0cb\n",
            "  Stored in directory: /root/.cache/pip/wheels/85/5d/4e/7c276b57992951dbe770bf5caad6448d0539c510663aefd2e2\n",
            "Successfully built dash-core-components dash-html-components dash-table\n",
            "Installing collected packages: tenacity, brotli, plotly, flask-compress, dash-table, dash-html-components, dash-core-components, dash\n",
            "  Attempting uninstall: plotly\n",
            "    Found existing installation: plotly 4.4.1\n",
            "    Uninstalling plotly-4.4.1:\n",
            "      Successfully uninstalled plotly-4.4.1\n",
            "Successfully installed brotli-1.0.9 dash-2.0.0 dash-core-components-2.0.0 dash-html-components-2.0.0 dash-table-5.0.0 flask-compress-1.10.1 plotly-5.5.0 tenacity-8.0.1\n"
          ]
        }
      ],
      "source": [
        "#Install Dash\n",
        "\n",
        "pip install dash"
      ]
    },
    {
      "cell_type": "code",
      "source": [
        "#Dashboard Generation. \n",
        "\n",
        "#Import Libaries\n",
        "\n",
        "import dash\n",
        "import dash_core_components as dcc\n",
        "import dash\n",
        "import dash_core_components as dcc\n",
        "from dash import html\n",
        "from dash.dependencies import Output, Input\n",
        "import plotly.express as px\n",
        "\n",
        "df = px.data.gapminder()\n",
        "\n",
        "external_stylesheets = ['https://codepen.io/chriddyp/pen/bWLwgP.css']\n",
        "app = dash.Dash(__name__, external_stylesheets=external_stylesheets)\n",
        "\n",
        "app.layout = html.Div([\n",
        "    dcc.Dropdown(id='dpdn2', value=['Germany','Brazil'], multi=True,\n",
        "                 options=[{'label': x, 'value': x} for x in\n",
        "                          df.country.unique()]),\n",
        "    html.Div([\n",
        "        dcc.Graph(id='pie-graph', figure={}, className='six columns'),\n",
        "        dcc.Graph(id='my-graph', figure={}, clickData=None, hoverData=None,\n",
        "                  config={\n",
        "                      'staticPlot': False,     # True, False\n",
        "                      'scrollZoom': True,      # True, False\n",
        "                      'doubleClick': 'reset',  # 'reset', 'autosize' or 'reset+autosize', False\n",
        "                      'showTips': False,       # True, False\n",
        "                      'displayModeBar': True,  # True, False, 'hover'\n",
        "                      'watermark': True,\n",
        "                      # 'modeBarButtonsToAdd': ['pan2d','select2d'],\n",
        "                        },\n",
        "                  className='six columns'\n",
        "                  )\n",
        "    ])\n",
        "])\n",
        "from dash.dependencies import Output, Input\n",
        "import plotly.express as px\n",
        "\n",
        "df = px.data.gapminder()\n",
        "\n",
        "external_stylesheets = ['https://codepen.io/chriddyp/pen/bWLwgP.css']\n",
        "app = dash.Dash(__name__, external_stylesheets=external_stylesheets)\n",
        "\n",
        "app.layout = html.Div([\n",
        "    dcc.Dropdown(id='dpdn2', value=['Germany','Brazil'], multi=True,\n",
        "                 options=[{'label': x, 'value': x} for x in\n",
        "                          df.country.unique()]),\n",
        "    html.Div([\n",
        "        dcc.Graph(id='pie-graph', figure={}, className='six columns'),\n",
        "        dcc.Graph(id='my-graph', figure={}, clickData=None, hoverData=None,\n",
        "                  config={\n",
        "                      'staticPlot': False,     # True, False\n",
        "                      'scrollZoom': True,      # True, False\n",
        "                      'doubleClick': 'reset',  # 'reset', 'autosize' or 'reset+autosize', False\n",
        "                      'showTips': False,       # True, False\n",
        "                      'displayModeBar': True,  # True, False, 'hover'\n",
        "                      'watermark': True,\n",
        "                      # 'modeBarButtonsToAdd': ['pan2d','select2d'],\n",
        "                        },\n",
        "                  className='six columns'\n",
        "                  )\n",
        "    ])\n",
        "])\n",
        "\n",
        "@app.callback(\n",
        "    Output(component_id='my-graph', component_property='figure'),\n",
        "    Input(component_id='dpdn2', component_property='value'),\n",
        ")\n",
        "def update_graph(country_chosen):\n",
        "    dff = df[df.country.isin(country_chosen)]\n",
        "    fig = px.line(data_frame=dff, x='year', y='gdpPercap', color='country',\n",
        "                  custom_data=['country', 'continent', 'lifeExp', 'pop'])\n",
        "    fig.update_traces(mode='lines+markers')\n",
        "    return fig\n",
        "\n",
        "\n",
        "# Dash version 1.16.0 or higher\n",
        "@app.callback(\n",
        "    Output(component_id='pie-graph', component_property='figure'),\n",
        "    Input(component_id='my-graph', component_property='hoverData'),\n",
        "    Input(component_id='my-graph', component_property='clickData'),\n",
        "    Input(component_id='my-graph', component_property='selectedData'),\n",
        "    Input(component_id='dpdn2', component_property='value')\n",
        ")\n",
        "def update_side_graph(hov_data, clk_data, slct_data, country_chosen):\n",
        "    if hov_data is None:\n",
        "        dff2 = df[df.country.isin(country_chosen)]\n",
        "        dff2 = dff2[dff2.year == 1952]\n",
        "        print(dff2)\n",
        "        fig2 = px.pie(data_frame=dff2, values='pop', names='country',\n",
        "                      title='Population for 1952')\n",
        "        return fig2\n",
        "    else:\n",
        "        print(f'hover data: {hov_data}')\n",
        "        print(hov_data['points'][0]['customdata'][0])\n",
        "        print(f'click data: {clk_data}')\n",
        "        print(f'selected data: {slct_data}')\n",
        "        dff2 = df[df.country.isin(country_chosen)]\n",
        "        hov_year = hov_data['points'][0]['x']\n",
        "        dff2 = dff2[dff2.year == hov_year]\n",
        "        fig2 = px.pie(data_frame=dff2, values='pop', names='country', title=f'Population for: {hov_year}')\n",
        "        return fig2\n",
        "\n",
        "\n",
        "if __name__ == '__main__':\n",
        "    app.run_server(debug=False)"
      ],
      "metadata": {
        "colab": {
          "base_uri": "https://localhost:8080/"
        },
        "id": "gtdHgCDBCcWq",
        "outputId": "d9f6821e-14ed-4a28-85f9-be2b53e95a13"
      },
      "execution_count": null,
      "outputs": [
        {
          "output_type": "stream",
          "name": "stderr",
          "text": [
            "/usr/local/lib/python3.7/dist-packages/ipykernel_launcher.py:2: UserWarning: \n",
            "The dash_core_components package is deprecated. Please replace\n",
            "`import dash_core_components as dcc` with `from dash import dcc`\n",
            "  \n"
          ]
        },
        {
          "output_type": "stream",
          "name": "stdout",
          "text": [
            "Dash is running on http://127.0.0.1:8050/\n",
            "\n",
            "Dash is running on http://127.0.0.1:8050/\n",
            "\n",
            " * Serving Flask app \"__main__\" (lazy loading)\n",
            " * Environment: production\n",
            "\u001b[31m   WARNING: This is a development server. Do not use it in a production deployment.\u001b[0m\n",
            "\u001b[2m   Use a production WSGI server instead.\u001b[0m\n",
            " * Debug mode: off\n"
          ]
        },
        {
          "output_type": "stream",
          "name": "stderr",
          "text": [
            " * Running on http://127.0.0.1:8050/ (Press CTRL+C to quit)\n"
          ]
        }
      ]
    },
    {
      "cell_type": "code",
      "source": [
        ""
      ],
      "metadata": {
        "id": "z1Y3gDFQCaGq"
      },
      "execution_count": null,
      "outputs": []
    }
  ]
}